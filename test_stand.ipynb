{
  "nbformat": 4,
  "nbformat_minor": 0,
  "metadata": {
    "colab": {
      "provenance": [],
      "collapsed_sections": [
        "i8Exv6jLxxQJ",
        "kiU24mKYybXM",
        "Dpbrv51t0KE9",
        "HReHsSO61Xue",
        "fV20kWHF2kOH",
        "43SZI7Hr5KUm",
        "eBvW-SU66-4m",
        "MYDm6HqnR_uS",
        "Uodl3Mn_crWc",
        "IKv7tOtKmtNu",
        "dBfGPgSOds3-",
        "fbW_XLFyhoe2",
        "m4X1sShvb5Cw",
        "l1663mLijE31",
        "a-6ndOGgkqmk",
        "bQVM5yZAntrv",
        "UQHW2y0zoIz4",
        "5ZS-0oD4rY5o",
        "cNqdS9kJiaVw"
      ],
      "toc_visible": true
    },
    "kernelspec": {
      "name": "python3",
      "display_name": "Python 3"
    },
    "language_info": {
      "name": "python"
    }
  },
  "cells": [
    {
      "cell_type": "markdown",
      "source": [
        "# Программа"
      ],
      "metadata": {
        "id": "pIo4kPzCs85I"
      }
    },
    {
      "cell_type": "markdown",
      "source": [
        "## 1. Импорты\n"
      ],
      "metadata": {
        "id": "i8Exv6jLxxQJ"
      }
    },
    {
      "cell_type": "code",
      "source": [
        "import numpy as np\n",
        "import numpy.ma as ma\n",
        "from scipy.linalg import hadamard\n",
        "import math\n",
        "import matplotlib.pyplot as plt\n",
        "from matplotlib.patches import Rectangle \n"
      ],
      "metadata": {
        "id": "_22ebzfmx8pQ"
      },
      "execution_count": null,
      "outputs": []
    },
    {
      "cell_type": "markdown",
      "source": [
        "\n",
        "\n",
        "---\n",
        "\n"
      ],
      "metadata": {
        "id": "s5n1MRkJzkPN"
      }
    },
    {
      "cell_type": "markdown",
      "source": [
        "## 2. Вспомогательные функции"
      ],
      "metadata": {
        "id": "P5Ky9HRHyRFl"
      }
    },
    {
      "cell_type": "markdown",
      "source": [
        "### 2.1. Текст в выбранной кодировке -> массив выбранного типа"
      ],
      "metadata": {
        "id": "kiU24mKYybXM"
      }
    },
    {
      "cell_type": "markdown",
      "source": [
        "По умолчанию: кодировка - **windows-1251**, тип выходных переменных - **bool**. Последнее для удобства маскирования матрицы преобразования."
      ],
      "metadata": {
        "id": "otFIeeBvzY9X"
      }
    },
    {
      "cell_type": "code",
      "source": [
        "def text2bin(text, encoding = 'windows-1251'):\n",
        "    res = []\n",
        "    for num in text.encode(encoding):\n",
        "        res.extend(i for i in map(int, '{:08b}'.format(num)))\n",
        "    \n",
        "    return res\n",
        "\n",
        "def gettextarray(text, encoding = 'windows-1251', type = 'bool'):\n",
        "    result = np.array(text2bin(text, encoding), dtype=type)\n",
        "    return (result, result.shape[0])"
      ],
      "metadata": {
        "id": "tTXBC0TCyaZQ"
      },
      "execution_count": null,
      "outputs": []
    },
    {
      "cell_type": "markdown",
      "source": [
        "### 2.2. Битовые операции для разных нумераций матрицы преобразования"
      ],
      "metadata": {
        "id": "Dpbrv51t0KE9"
      }
    },
    {
      "cell_type": "code",
      "source": [
        "#число -> код грея\n",
        "def b2gr(n):\n",
        "    return n ^ (n >> 1)\n",
        "\n",
        "#код грея -> число\n",
        "def gr2b(n):\n",
        "    temp = n\n",
        "    n >>= 1\n",
        "    while n != 0:\n",
        "        temp ^= n\n",
        "        n >>= 1\n",
        "        \n",
        "    return temp\n",
        "\n",
        "#биты в обратном порядке\n",
        "def reverse(n, bits):\n",
        "    b = format(n, 'b')\n",
        "    b = b.rjust(bits, '0')\n",
        "    return int(b[::-1],2)\n",
        "\n",
        "#нумерация по адамару -> по уолшу\n",
        "def had2wal(val, bits):\n",
        "    r = reverse(val, bits)\n",
        "    return gr2b(r)\n",
        "\n",
        "#нумерация по уолшу -> по пэли\n",
        "def wal2pal(val):\n",
        "    return b2gr(val)"
      ],
      "metadata": {
        "id": "whXNcv9c02nk"
      },
      "execution_count": null,
      "outputs": []
    },
    {
      "cell_type": "markdown",
      "source": [
        "### 2.3. Вычисление матрицы преобразования заданного размера"
      ],
      "metadata": {
        "id": "HReHsSO61Xue"
      }
    },
    {
      "cell_type": "markdown",
      "source": [
        "Использовать функцию - get_ort_matrix. Первый параметр - длина массива битов кодируемого сообщения, второй - тип нумерации: 'had' - по Адамару, 'wal'  - по Уолшу, остальное - по Пэли. Возвращает матрицу ортогонального преобразования размера $2^{⌈\\log_2 N⌉}$ , где N - длина массива битов сообщения"
      ],
      "metadata": {
        "id": "pblmw7Wl1ofK"
      }
    },
    {
      "cell_type": "code",
      "source": [
        "def get_hadamar(size):\n",
        "    return hadamard(size)\n",
        "\n",
        "def get_walsh(size):\n",
        "    bits = int(np.log2(size))\n",
        "    had_mat = get_hadamar(size)\n",
        "    map_wal = {i:had2wal(i, bits) for i in range(size)}\n",
        "    w = np.zeros((size,size))\n",
        "    for had, wal in map_wal.items():\n",
        "        w[wal] = had_mat[had]\n",
        "    return w\n",
        "\n",
        "def get_paley(size):\n",
        "    walsh = get_walsh(size)\n",
        "    map_pal = {i:wal2pal(i) for i in range(size)}\n",
        "    p = np.zeros((size,size))\n",
        "    for wal, pal in map_pal.items():\n",
        "        p[pal] = walsh[wal]\n",
        "    return p\n",
        "\n",
        "def get_ort_matrix(msg_len, type='pal'):\n",
        "    size = np.ceil(np.log2(msg_len))\n",
        "    total_size = int(2**size)\n",
        "\n",
        "    if type == 'had':\n",
        "        return (total_size, get_hadamar(total_size))\n",
        "    elif type == 'wal':\n",
        "        return (total_size, get_walsh(total_size))\n",
        "    else:\n",
        "        return (total_size, get_paley(total_size))\n",
        "\n",
        "def get_full_ort_matrix(size, type = 'pal'):\n",
        "    if type == 'had':\n",
        "        return get_hadamar(size)\n",
        "    elif type == 'wal':\n",
        "        return  get_walsh(size)\n",
        "    else:\n",
        "        return get_paley(size)\n",
        "\n",
        "def get_part_ort_matrix(size, msg_len, shift_f, shift_e, type = 'pal'):\n",
        "    if type == 'had':\n",
        "        return get_hadamar(size)[shift_f : msg_len+shift_f, shift_e : msg_len + shift_e]\n",
        "    elif type == 'wal':\n",
        "        return  get_walsh(size)[shift_f : msg_len+shift_f, shift_e : msg_len + shift_e]\n",
        "    else:\n",
        "        return get_paley(size)[shift_f : msg_len+shift_f, shift_e : msg_len + shift_e]"
      ],
      "metadata": {
        "id": "I7thoQxc1kRp"
      },
      "execution_count": null,
      "outputs": []
    },
    {
      "cell_type": "markdown",
      "source": [
        "### 2.4. Задание соответствия i-му биту массива сообщений -> строки матрицы преобразования"
      ],
      "metadata": {
        "id": "fV20kWHF2kOH"
      }
    },
    {
      "cell_type": "markdown",
      "source": [
        "Вход - длина массива битов сообщения. По умолчанию - i-ый бит сообщения соответствует i-ой строке матрицы преобразования"
      ],
      "metadata": {
        "id": "VMGRLWCr4msY"
      }
    },
    {
      "cell_type": "code",
      "source": [
        "def get_default_map(msg_len):\n",
        "    return np.array([i for i in range(msg_len)], dtype='int')"
      ],
      "metadata": {
        "id": "EaJX8XLc4vwW"
      },
      "execution_count": null,
      "outputs": []
    },
    {
      "cell_type": "markdown",
      "source": [
        "### 2.5. Вычисление суммарного сигнала соответствующего массиву битов сообщения"
      ],
      "metadata": {
        "id": "43SZI7Hr5KUm"
      }
    },
    {
      "cell_type": "markdown",
      "source": [
        "Использовать - get_sum_function_for_message. Параметры - полная матрица преобразования, массив битов, соответствие из [2.4.](https://colab.research.google.com/drive/1i-hgvaiHeT_Z5MM7c-SuDrc3TxKRR-c2#scrollTo=fV20kWHF2kOH&line=1&uniqifier=1), сдвиг по строкам, сдвиг по столбцам"
      ],
      "metadata": {
        "id": "3HABm-pN5iUF"
      }
    },
    {
      "cell_type": "code",
      "source": [
        "def get_walsh_part(arr, msg_len, offset_fun = 0, offset_elem = 0):\n",
        "    np_arr = np.array(arr, dtype='int')\n",
        "    \n",
        "    if(np_arr.ndim != 2):\n",
        "        raise ValueError('Not 2 dim matrix')\n",
        "\n",
        "    if(np_arr.shape[0] < msg_len):\n",
        "        raise ValueError('Not enough functions or function elements')\n",
        "\n",
        "    return arr[offset_fun : msg_len+offset_fun, offset_elem : msg_len + offset_elem]\n",
        "\n",
        "def get_mapped_walsh(part_walsh, mapping):\n",
        "    if(part_walsh.shape[0] < len(mapping)):\n",
        "        raise ValueError('Matrix have lesser function than requested')\n",
        "    return np.take(part_walsh, mapping, axis=0)\n",
        "\n",
        "def get_walsh_masked_for_message(w_matrix, msg_bits, w_fun_mapping , offset_fun = 0, offset_elem = 0):\n",
        "    msg_len = len(msg_bits)\n",
        "    full_part_matrix = get_walsh_part(w_matrix, msg_len, offset_fun, offset_elem)\n",
        "    part_matrix = get_mapped_walsh(full_part_matrix, w_fun_mapping)\n",
        "    mask = np.array(msg_bits, dtype='bool')\n",
        "    return full_part_matrix, part_matrix[mask, :]\n",
        "\n",
        "def get_sum_function_for_message(w_matrix, msg_bits, w_fun_mapping , offset_fun = 0, offset_elem = 0):\n",
        "    full_part_matrix, mtrx = get_walsh_masked_for_message(w_matrix, msg_bits, w_fun_mapping , offset_fun, offset_elem)\n",
        "    return (full_part_matrix, np.sum(mtrx, axis=0))"
      ],
      "metadata": {
        "id": "4mGseFtu5eS0"
      },
      "execution_count": null,
      "outputs": []
    },
    {
      "cell_type": "markdown",
      "source": [
        "### 2.6. Суммарный сигнал -> Массив битов сообщения"
      ],
      "metadata": {
        "id": "eBvW-SU66-4m"
      }
    },
    {
      "cell_type": "code",
      "source": [
        "def decode_sum_fun(part_matrix, sum_fun):\n",
        "    return np.matmul(part_matrix, sum_fun) / part_matrix.shape[1]"
      ],
      "metadata": {
        "id": "Cm5Cxoio7Iom"
      },
      "execution_count": null,
      "outputs": []
    },
    {
      "cell_type": "markdown",
      "source": [
        "### 2.7. Модель выходных данных"
      ],
      "metadata": {
        "id": "MYDm6HqnR_uS"
      }
    },
    {
      "cell_type": "code",
      "source": [
        "class Result():\n",
        "\n",
        "    def __init__(self, b_m_l, ort_m_s, s_f, s_e, b_m, d_m, m_type, sum_sig):\n",
        "        #длина массива битов исходного сообщения\n",
        "        self.binary_message_len = b_m_l\n",
        "\n",
        "        #размер матрицы ортогонального преобразования     \n",
        "        self.ort_matrix_size = ort_m_s\n",
        "\n",
        "        #сдвиг по строке\n",
        "        self.shift_function = s_f\n",
        "\n",
        "        #сдвиг по столбцу\n",
        "        self.shift_element = s_e\n",
        "\n",
        "        #массив битов исходного сообщения\n",
        "        self.binary_message = b_m\n",
        "\n",
        "        #декодированное сообщение\n",
        "        self.decoded_message = d_m\n",
        "\n",
        "        #тип нумерации матрицы ортогонального преобразования\n",
        "        self.matrix_type = m_type\n",
        "\n",
        "        #суммарный сигнал\n",
        "        self.summary_signal = sum_sig\n",
        "\n",
        "    def get_full_matrix(self):\n",
        "        return get_full_ort_matrix(self.ort_matrix_size, self.matrix_type)\n",
        "\n",
        "    def get_part_matrix(self):\n",
        "        return get_part_ort_matrix(self.ort_matrix_size, self.binary_message_len, self.shift_function, self.shift_element, self.matrix_type)\n",
        "\n",
        "    def get_max_deltas(self):\n",
        "        masked_arr_1 = ma.masked_where(self.binary_message != 1, self.binary_message)\n",
        "        max_abs_diff_1 = (np.absolute(masked_arr_1 - self.decoded_message)).max()\n",
        "\n",
        "        masked_arr_0 = ma.masked_where(self.binary_message != 0, self.binary_message)\n",
        "        max_abs_diff_0 = (np.absolute(masked_arr_0 - self.decoded_message)).max()\n",
        "        return (max_abs_diff_0, max_abs_diff_1)"
      ],
      "metadata": {
        "id": "Y_TBYsGnSF2y"
      },
      "execution_count": null,
      "outputs": []
    },
    {
      "cell_type": "markdown",
      "source": [
        "### 2.8. Массив битов сообщения -> суммарный сигнал -> декодированный массив битов"
      ],
      "metadata": {
        "id": "Uodl3Mn_crWc"
      }
    },
    {
      "cell_type": "code",
      "source": [
        "def encoder_decoder_short(binary_array, binary_msg_len, full_orthogonal_matrix, offset_f, offset_e):\n",
        "\n",
        "    #соответствие биту сообщения функции уолша \n",
        "    #i-ый индекс массива = i-ый бит сообщения -> walsh_map[i] - номер функции уолша для i-го бита\n",
        "    walsh_map = get_default_map(binary_msg_len)\n",
        "\n",
        "    #сумма функций уолша для подматрицы\n",
        "    part_matrix, sum_fun = get_sum_function_for_message(full_orthogonal_matrix, binary_array, walsh_map, offset_f, offset_e)\n",
        "\n",
        "    #восстановление двоичного массива исходного текста\n",
        "    decoded_binary_arr = np.matmul(part_matrix, sum_fun) / part_matrix.shape[1]\n",
        "\n",
        "    return decoded_binary_arr, sum_fun"
      ],
      "metadata": {
        "id": "ecGqVmVRc_cG"
      },
      "execution_count": null,
      "outputs": []
    },
    {
      "cell_type": "markdown",
      "source": [
        "### 2.9. Уровень суммарного сигнала -> двоичная комбинация"
      ],
      "metadata": {
        "id": "IKv7tOtKmtNu"
      }
    },
    {
      "cell_type": "code",
      "source": [
        "def get_level_binary_map(min_val, max_val):\n",
        "    if(min_val > max_val):\n",
        "        raise ValueError('min_val > max_val')\n",
        "\n",
        "    bit_length =  math.ceil(math.log2(max_val - min_val + 1))\n",
        "    format_str = f'{{:0{bit_length}b}}'\n",
        "    return (bit_length, {val: format_str.format(i) for i, val in  enumerate(range(min_val, max_val+1))})\n",
        "\n",
        "def sum_fun_to_binary_array(sum_fun, mapping):\n",
        "    return [mapping[key] for key in sum_fun]\n",
        "\n",
        "def sum_fun_to_binary_string(sum_fun, mapping):\n",
        "    return ''.join([str(i) for i in sum_fun_to_binary_array(sum_fun, mapping)])\n",
        "\n",
        "def array_to_binary_string(array):\n",
        "    return ''.join([str(i) for i in array])"
      ],
      "metadata": {
        "id": "V3f4-lsPm2ab"
      },
      "execution_count": null,
      "outputs": []
    },
    {
      "cell_type": "markdown",
      "source": [
        "## 3. Функции кодирования/декодирования"
      ],
      "metadata": {
        "id": "6Tu9XYZ07rKq"
      }
    },
    {
      "cell_type": "markdown",
      "source": [
        "### 3.1. Минимизируемая оценка "
      ],
      "metadata": {
        "id": "dBfGPgSOds3-"
      }
    },
    {
      "cell_type": "markdown",
      "source": [
        "Ищем такой декодированный массив для которого $∑_{i=0}^{N} (V_i - D_i)^2 → min$ , где 𝑁 - число битов сообщения, 𝑉 - массив битов входного сообщения, 𝐷 - массив декодированного сообщения"
      ],
      "metadata": {
        "id": "wdYeLH-vecs4"
      }
    },
    {
      "cell_type": "code",
      "source": [
        "def score(input_arr, output_arr):\n",
        "    return (np.square(input_arr - output_arr)).sum()"
      ],
      "metadata": {
        "id": "7McdsJ2ed6kO"
      },
      "execution_count": null,
      "outputs": []
    },
    {
      "cell_type": "markdown",
      "source": [
        "### 3.2. Укороченные функции кодирования/декодирования (без перевода суммарного сигнала в набор двоичных комбинаций)"
      ],
      "metadata": {
        "id": "fbW_XLFyhoe2"
      }
    },
    {
      "cell_type": "markdown",
      "source": [
        "#### 3.2.1. Функция поиска оптимального подмассива в полной ортогональной матрицы в выбранной нумерации и кодировке исходного текста для сообщения произвольной длины"
      ],
      "metadata": {
        "id": "m4X1sShvb5Cw"
      }
    },
    {
      "cell_type": "markdown",
      "source": [
        "Поддерживается кодировка впринципе любая 8-битная кодировка, пока что.\n",
        "'had' - нумерация Адамара, 'wal' - Уолша, 'pal' и любое и другое значение - Пэли"
      ],
      "metadata": {
        "id": "MCoSbCzUimFb"
      }
    },
    {
      "cell_type": "code",
      "source": [
        "def short_get_optimal_function(string, matrix_type = 'pal', encoding = 'windows-1251'):\n",
        "\n",
        "    #текст в виде массива битов в кодировке windows-1251\n",
        "    binary_array, binary_msg_len = gettextarray(string, encoding)\n",
        "    output = np.array(binary_array, dtype='int')\n",
        "\n",
        "    #полная матрица функций уолша - размер ort_matrix_size = 2 ^ (ceil(log2(binary_msg_len)))\n",
        "    ort_matrix_size, full_orthogonal_matrix = get_ort_matrix(binary_msg_len, matrix_type)\n",
        "\n",
        "    min_f, min_e = (0, 0)\n",
        "    current_min = 99999\n",
        "    min_decoded = np.zeros((binary_msg_len,))\n",
        "    min_sum_signal = np.zeros((binary_msg_len,))\n",
        "\n",
        "    for shift_f in range(0, ort_matrix_size - binary_msg_len + 1):\n",
        "        for shift_e in range(0, ort_matrix_size - binary_msg_len + 1):\n",
        "             decoded, sum_signal = encoder_decoder_short(binary_array, binary_msg_len, full_orthogonal_matrix, shift_f, shift_e)\n",
        "             score_val = score(binary_array, decoded)\n",
        "\n",
        "             if score_val < current_min:\n",
        "                current_min = score_val\n",
        "                min_f = shift_f\n",
        "                min_e = shift_e\n",
        "                min_decoded = decoded\n",
        "                min_sum_signal = sum_signal\n",
        "\n",
        "    result = Result(binary_msg_len, ort_matrix_size, min_f, min_e, output, min_decoded, matrix_type, min_sum_signal)\n",
        "\n",
        "    return result"
      ],
      "metadata": {
        "id": "3zBeNa7Dburf"
      },
      "execution_count": null,
      "outputs": []
    },
    {
      "cell_type": "markdown",
      "source": [
        "#### 3.2.2. Аналогично прошлому пункту, только вместо поиска - сдвиг задается вручную через параметры функции"
      ],
      "metadata": {
        "id": "l1663mLijE31"
      }
    },
    {
      "cell_type": "code",
      "source": [
        "def short_get_selected_function(string, shift_f, shift_e, matrix_type = 'pal', encoding = 'windows-1251'):\n",
        "\n",
        "    #текст в виде массива битов в кодировке windows-1251\n",
        "    binary_array, binary_msg_len = gettextarray(string, encoding)\n",
        "    output = np.array(binary_array, dtype='int')\n",
        "\n",
        "    #полная матрица функций уолша - размер ort_matrix_size = 2 ^ (ceil(log2(binary_msg_len)))\n",
        "    ort_matrix_size, full_orthogonal_matrix = get_ort_matrix(binary_msg_len, matrix_type)\n",
        "\n",
        "    decoded, sum_signal = encoder_decoder_short(binary_array, binary_msg_len, full_orthogonal_matrix, shift_f, shift_e)\n",
        "\n",
        "    result = Result(binary_msg_len, ort_matrix_size, shift_f, shift_e, output, decoded, matrix_type, sum_signal)\n",
        "\n",
        "    return result"
      ],
      "metadata": {
        "id": "_cDvzpEQjS6c"
      },
      "execution_count": null,
      "outputs": []
    },
    {
      "cell_type": "markdown",
      "source": [
        "### 3.3. Полные функции кодирования/декодирования (с формированием итогового двоичного закодированного сообщения)"
      ],
      "metadata": {
        "id": "jVO0uwnPkJ7j"
      }
    },
    {
      "cell_type": "markdown",
      "source": [
        "#### 3.3.1. С поиском оптимального подмассива."
      ],
      "metadata": {
        "id": "a-6ndOGgkqmk"
      }
    },
    {
      "cell_type": "code",
      "source": [
        "def full_get_optimal_function(string, matrix_type = 'pal', encoding = 'windows-1251'):\n",
        "    short_result = short_get_optimal_function(string, matrix_type, encoding)\n",
        "\n",
        "    #соответствие уровень суммарной функции -> двоичный код\n",
        "    bits_per_level, level_map = get_level_binary_map(short_result.summary_signal.min(), summary_signal.max())\n",
        "\n",
        "    #суммарная функция -> двоичный код \n",
        "    binary_encoded_array = sum_fun_to_binary_array(short_result.summary_signal, level_map)\n",
        "\n",
        "    return short_result, bits_per_level, level_map, binary_encoded_array\n"
      ],
      "metadata": {
        "id": "NNEKMUskkiZP"
      },
      "execution_count": null,
      "outputs": []
    },
    {
      "cell_type": "markdown",
      "source": [
        "#### 3.3.2. Без поиска"
      ],
      "metadata": {
        "id": "bQVM5yZAntrv"
      }
    },
    {
      "cell_type": "code",
      "source": [
        "def full_get_selected_function(string, shift_f, shift_e, matrix_type = 'pal', encoding = 'windows-1251'):\n",
        "    short_result = short_get_selected_function(string, shift_f, shift_e, matrix_type, encoding)\n",
        "\n",
        "    #соответствие уровень суммарной функции -> двоичный код\n",
        "    bits_per_level, level_map = get_level_binary_map(short_result.summary_signal.min(), summary_signal.max())\n",
        "\n",
        "    #суммарная функция -> двоичный код \n",
        "    binary_encoded_array = sum_fun_to_binary_array(short_result.summary_signal, level_map)\n",
        "\n",
        "    return short_result, bits_per_level, level_map, binary_encoded_array\n"
      ],
      "metadata": {
        "id": "qrxbwBa_nxBQ"
      },
      "execution_count": null,
      "outputs": []
    },
    {
      "cell_type": "markdown",
      "source": [
        "## 4. Отображение результатов"
      ],
      "metadata": {
        "id": "7CMD6k4Hv-lD"
      }
    },
    {
      "cell_type": "markdown",
      "source": [
        "### 4.1. Графическое отображение результатов"
      ],
      "metadata": {
        "id": "UQHW2y0zoIz4"
      }
    },
    {
      "cell_type": "markdown",
      "source": [
        "#### 4.1.1. Для одного выходного объекта"
      ],
      "metadata": {
        "id": "5ZS-0oD4rY5o"
      }
    },
    {
      "cell_type": "code",
      "source": [
        "def plot_result(result: Result):\n",
        "    fig, ax = plt.subplots(nrows=1, ncols=3, figsize = (16,6))\n",
        "    mes_len = result.binary_message_len\n",
        "    p_m = result.get_part_matrix()\n",
        "    ax[0].imshow(p_m, interpolation='none', cmap='binary')\n",
        "    ax[0].set(xlabel = 'Элемент функции', ylabel = 'Номер функции', title = f'Исходный текст = {mes_len} битов.\\ndelta = {result.ort_matrix_size - mes_len}\\n Нумерация {get_matr_name(result.matrix_type)}')\n",
        "    plt.setp(ax[0], xticks = [i for i in range(0, p_m.shape[0])], xticklabels = [i for i in range(1, p_m.shape[0]+1)], yticks = [i for i in range(0, p_m.shape[0])], yticklabels = [i for i in range(1, p_m.shape[0]+1)])\n",
        "    plt.setp(ax[0].get_xticklabels(), fontsize=6, rotation=90)\n",
        "    plt.setp(ax[0].get_yticklabels(), fontsize=6)\n",
        "\n",
        "    full_m = result.get_full_matrix()\n",
        "    ax[1].imshow(full_m, interpolation='none', cmap='binary')\n",
        "    ax[1].set(xlabel = 'Элемент функции', ylabel = 'Номер функции', title = f'Сдвиг по функциям = {result.shift_function}\\nПо элементам = {result.shift_element}')\n",
        "    plt.setp(ax[1], xticks = [i for i in range(0, result.ort_matrix_size)], xticklabels = [i for i in range(1, result.ort_matrix_size+1)], yticks = [i for i in range(0, result.ort_matrix_size)], yticklabels = [i for i in range(1, result.ort_matrix_size+1)])\n",
        "    plt.setp(ax[1].get_xticklabels(), fontsize=6, rotation=90)\n",
        "    plt.setp(ax[1].get_yticklabels(), fontsize=6)\n",
        "    cb = Rectangle((-.4 + result.shift_element,-.4 + result.shift_function),p_m.shape[0],p_m.shape[1],\n",
        "                            edgecolor='red',\n",
        "                            facecolor='none',\n",
        "                            lw=1)\n",
        "    ax[1].add_patch(cb)\n",
        "\n",
        "    ax[2].plot(result.binary_message, 'r+')\n",
        "    ax[2].plot(result.decoded_message, 'b.')\n",
        "\n",
        "    ax[2].plot(([i for i in range(result.binary_message_len)], [i for i in range(result.binary_message_len)]), (result.binary_message, result.decoded_message), c='black')\n",
        "\n",
        "    max_abs_diff_0, max_abs_diff_1 = result.get_max_deltas()\n",
        "\n",
        "    ax[2].set(title = f'Max delta for 1 = {max_abs_diff_1:.3f}, \\n max delta for 0 = {max_abs_diff_0:.3f}\\n Оценка расхождений = {score(result.binary_message, result.decoded_message)}')\n",
        "    \n",
        "    plt.tight_layout()\n",
        "    plt.show()"
      ],
      "metadata": {
        "id": "jtb4iqEcrUpj"
      },
      "execution_count": null,
      "outputs": []
    },
    {
      "cell_type": "markdown",
      "source": [
        "#### 4.1.2. Для списка объектов"
      ],
      "metadata": {
        "id": "Z1XSVpepmieY"
      }
    },
    {
      "cell_type": "code",
      "source": [
        "def plot_list_result(results):\n",
        "    fig, ax = plt.subplots(nrows=len(results), ncols=3, figsize = (16,6*len(results)))\n",
        "    for i, result in enumerate(results):\n",
        "      mes_len = result.binary_message_len\n",
        "      p_m = result.get_part_matrix()\n",
        "      ax[i,0].imshow(p_m, interpolation='none', cmap='binary')\n",
        "      ax[i,0].set(xlabel = 'Элемент функции', ylabel = 'Номер функции', title = f'Исходный текст = {mes_len} битов.\\ndelta = {result.ort_matrix_size - mes_len}\\nНумерация {get_matr_name(result.matrix_type)}')\n",
        "      plt.setp(ax[i,0], xticks = [i for i in range(0, p_m.shape[0])], xticklabels = [i for i in range(1, p_m.shape[0]+1)], yticks = [i for i in range(0, p_m.shape[0])], yticklabels = [i for i in range(1, p_m.shape[0]+1)])\n",
        "      plt.setp(ax[i,0].get_xticklabels(), fontsize=6, rotation=90)\n",
        "      plt.setp(ax[i,0].get_yticklabels(), fontsize=6)\n",
        "\n",
        "      full_m = result.get_full_matrix()\n",
        "      ax[i,1].imshow(full_m, interpolation='none', cmap='binary')\n",
        "      ax[i,1].set(xlabel = 'Элемент функции', ylabel = 'Номер функции', title = f'Сдвиг по функциям = {result.shift_function}\\nПо элементам = {result.shift_element}')\n",
        "      plt.setp(ax[i,1], xticks = [i for i in range(0, result.ort_matrix_size)], xticklabels = [i for i in range(1, result.ort_matrix_size+1)], yticks = [i for i in range(0, result.ort_matrix_size)], yticklabels = [i for i in range(1, result.ort_matrix_size+1)])\n",
        "      plt.setp(ax[i,1].get_xticklabels(), fontsize=6, rotation=90)\n",
        "      plt.setp(ax[i,1].get_yticklabels(), fontsize=6)\n",
        "      cb = Rectangle((-.4 + result.shift_element,-.4 + result.shift_function),p_m.shape[0],p_m.shape[1],\n",
        "                              edgecolor='red',\n",
        "                              facecolor='none',\n",
        "                              lw=1)\n",
        "      ax[i,1].add_patch(cb)\n",
        "\n",
        "      ax[i,2].plot(result.binary_message, 'r+')\n",
        "      ax[i,2].plot(result.decoded_message, 'b.')\n",
        "\n",
        "      ax[i,2].plot(([i for i in range(result.binary_message_len)], [i for i in range(result.binary_message_len)]), (result.binary_message, result.decoded_message), c='black')\n",
        "\n",
        "      max_abs_diff_0, max_abs_diff_1 = result.get_max_deltas()\n",
        "\n",
        "      ax[i,2].set(title = f'Max delta for 1 = {max_abs_diff_1:.3f}, \\n max delta for 0 = {max_abs_diff_0:.3f}\\n Оценка расхождений = {score(result.binary_message, result.decoded_message)}')\n",
        "    \n",
        "    plt.tight_layout()\n",
        "    plt.show()"
      ],
      "metadata": {
        "id": "Kp0klz3zmm2J"
      },
      "execution_count": null,
      "outputs": []
    },
    {
      "cell_type": "markdown",
      "source": [
        "### 4.2. Текстовый вывод"
      ],
      "metadata": {
        "id": "cNqdS9kJiaVw"
      }
    },
    {
      "cell_type": "code",
      "source": [
        "def get_matr_name(short_name):\n",
        "    if short_name == 'had':\n",
        "      return 'Адамара'\n",
        "    elif short_name == 'wal':\n",
        "      return 'Уолша'\n",
        "    else:\n",
        "      return 'Пэли'\n",
        "\n",
        "\n",
        "def print_all_text_result(result: Result):\n",
        "    print(f'Длина сообщения = {result.binary_message_len} бит')\n",
        "    print(f'Сообщение: {result.binary_message}')\n",
        "    print(f'Используется матрица {result.ort_matrix_size}x{result.ort_matrix_size} в нумерации {get_matr_name(result.matrix_type)}')\n",
        "    print(f'Сдвиг: {result.shift_function}x{result.shift_element} (по строке х по столбцу) ')\n",
        "    print(f'Суммарный сигнал: {result.summary_signal}')\n",
        "    print(f'Декодированное сообщение: {result.decoded_message}')\n",
        "\n",
        "def print_min_text_result(result :Result):\n",
        "    max_0, max_1 = result.get_max_deltas()\n",
        "    print(f'Сдвиг: {result.shift_function}x{result.shift_element}')\n",
        "    print(f'Макс отклонение для 0 = {max_0}')\n",
        "    print(f'Макс отклонение для 1 = {max_1}')"
      ],
      "metadata": {
        "id": "r3iWFthni0pD"
      },
      "execution_count": null,
      "outputs": []
    },
    {
      "cell_type": "markdown",
      "source": [
        "# 5. ИСПОЛЬЗОВАНИЕ"
      ],
      "metadata": {
        "id": "1RS0RnDermyk"
      }
    },
    {
      "cell_type": "code",
      "source": [
        "input_text = 'ааааааа'\n",
        "resH = short_get_optimal_function(input_text, 'had')\n",
        "resW = short_get_optimal_function(input_text, 'wal')\n",
        "resP = short_get_optimal_function(input_text, 'pal')\n",
        "plot_list_result([resH, resW, resP])"
      ],
      "metadata": {
        "colab": {
          "base_uri": "https://localhost:8080/",
          "height": 1000
        },
        "id": "iVVTjWg2rweZ",
        "outputId": "eec4526e-44e5-4748-ae21-d49e6d89c07d"
      },
      "execution_count": null,
      "outputs": [
        {
          "output_type": "display_data",
          "data": {
            "text/plain": [
              "<Figure size 1152x1296 with 9 Axes>"
            ],
            "image/png": "[encoded data removed]"
          },
          "metadata": {
            "needs_background": "light"
          }
        }
      ]
    },
    {
      "cell_type": "markdown",
      "source": [],
      "metadata": {
        "id": "YgI98jadrsUI"
      }
    }
  ]
}